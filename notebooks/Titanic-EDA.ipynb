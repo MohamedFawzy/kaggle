{
 "cells": [
  {
   "cell_type": "markdown",
   "metadata": {
    "collapsed": true
   },
   "source": [
    "### Titanic dataset Exploreing and data preprocessing"
   ]
  },
  {
   "cell_type": "code",
   "execution_count": 1,
   "metadata": {
    "pycharm": {
     "is_executing": false
    }
   },
   "outputs": [],
   "source": [
    "# import\n",
    "import pandas as pd\n",
    "import numpy as np\n",
    "import os\n",
    "%matplotlib inline"
   ]
  },
  {
   "cell_type": "markdown",
   "metadata": {},
   "source": [
    "### Import data"
   ]
  },
  {
   "cell_type": "code",
   "execution_count": 2,
   "metadata": {
    "pycharm": {
     "is_executing": false
    }
   },
   "outputs": [],
   "source": [
    "data_path = os.path.join(os.path.pardir, \"data\")\n",
    "train_file_path = os.path.join(data_path, \"train_titanic.csv\")\n",
    "test_file_path = os.path.join(data_path, \"test_titanic.csv\")"
   ]
  },
  {
   "cell_type": "code",
   "execution_count": 3,
   "metadata": {
    "pycharm": {
     "is_executing": false
    }
   },
   "outputs": [],
   "source": [
    "train_df = pd.read_csv(train_file_path, index_col=\"PassengerId\")\n",
    "test_df = pd.read_csv(test_file_path, index_col=\"PassengerId\")"
   ]
  },
  {
   "cell_type": "code",
   "execution_count": 4,
   "metadata": {
    "pycharm": {
     "is_executing": false
    }
   },
   "outputs": [
    {
     "data": {
      "text/plain": "pandas.core.frame.DataFrame"
     },
     "metadata": {},
     "output_type": "execute_result",
     "execution_count": 4
    }
   ],
   "source": [
    "type(train_df)"
   ]
  },
  {
   "cell_type": "markdown",
   "metadata": {},
   "source": [
    "### Basic Structure"
   ]
  },
  {
   "cell_type": "code",
   "execution_count": 5,
   "metadata": {
    "pycharm": {
     "is_executing": false
    }
   },
   "outputs": [
    {
     "name": "stdout",
     "text": [
      "<class 'pandas.core.frame.DataFrame'>\nInt64Index: 891 entries, 1 to 891\nData columns (total 11 columns):\nSurvived    891 non-null int64\nPclass      891 non-null int64\nName        891 non-null object\nSex         891 non-null object\nAge         714 non-null float64\nSibSp       891 non-null int64\nParch       891 non-null int64\nTicket      891 non-null object\nFare        891 non-null float64\nCabin       204 non-null object\nEmbarked    889 non-null object\ndtypes: float64(2), int64(4), object(5)\nmemory usage: 83.5+ KB\n"
     ],
     "output_type": "stream"
    }
   ],
   "source": [
    "train_df.info()"
   ]
  },
  {
   "cell_type": "code",
   "execution_count": 6,
   "metadata": {
    "pycharm": {
     "is_executing": false
    }
   },
   "outputs": [
    {
     "name": "stdout",
     "text": [
      "<class 'pandas.core.frame.DataFrame'>\nInt64Index: 418 entries, 892 to 1309\nData columns (total 10 columns):\nPclass      418 non-null int64\nName        418 non-null object\nSex         418 non-null object\nAge         332 non-null float64\nSibSp       418 non-null int64\nParch       418 non-null int64\nTicket      418 non-null object\nFare        417 non-null float64\nCabin       91 non-null object\nEmbarked    418 non-null object\ndtypes: float64(2), int64(3), object(5)\nmemory usage: 35.9+ KB\n"
     ],
     "output_type": "stream"
    }
   ],
   "source": [
    "test_df.info()"
   ]
  },
  {
   "cell_type": "code",
   "execution_count": 7,
   "metadata": {
    "pycharm": {
     "is_executing": false
    }
   },
   "outputs": [],
   "source": [
    "test_df['Survived'] = -999"
   ]
  },
  {
   "cell_type": "code",
   "execution_count": 8,
   "metadata": {
    "pycharm": {
     "is_executing": false
    }
   },
   "outputs": [],
   "source": [
    "df = pd.concat((train_df, test_df), axis=0, sort=False)"
   ]
  },
  {
   "cell_type": "code",
   "execution_count": 9,
   "metadata": {
    "pycharm": {
     "is_executing": false
    }
   },
   "outputs": [
    {
     "name": "stdout",
     "text": [
      "<class 'pandas.core.frame.DataFrame'>\nInt64Index: 1309 entries, 1 to 1309\nData columns (total 11 columns):\nSurvived    1309 non-null int64\nPclass      1309 non-null int64\nName        1309 non-null object\nSex         1309 non-null object\nAge         1046 non-null float64\nSibSp       1309 non-null int64\nParch       1309 non-null int64\nTicket      1309 non-null object\nFare        1308 non-null float64\nCabin       295 non-null object\nEmbarked    1307 non-null object\ndtypes: float64(2), int64(4), object(5)\nmemory usage: 122.7+ KB\n"
     ],
     "output_type": "stream"
    }
   ],
   "source": [
    "df.info()"
   ]
  },
  {
   "cell_type": "code",
   "execution_count": 10,
   "metadata": {
    "pycharm": {
     "is_executing": false
    }
   },
   "outputs": [
    {
     "data": {
      "text/plain": "             Survived  Pclass  \\\nPassengerId                     \n1                   0       3   \n2                   1       1   \n3                   1       3   \n4                   1       1   \n5                   0       3   \n\n                                                          Name     Sex   Age  \\\nPassengerId                                                                    \n1                                      Braund, Mr. Owen Harris    male  22.0   \n2            Cumings, Mrs. John Bradley (Florence Briggs Th...  female  38.0   \n3                                       Heikkinen, Miss. Laina  female  26.0   \n4                 Futrelle, Mrs. Jacques Heath (Lily May Peel)  female  35.0   \n5                                     Allen, Mr. William Henry    male  35.0   \n\n             SibSp  Parch            Ticket     Fare Cabin Embarked  \nPassengerId                                                          \n1                1      0         A/5 21171   7.2500   NaN        S  \n2                1      0          PC 17599  71.2833   C85        C  \n3                0      0  STON/O2. 3101282   7.9250   NaN        S  \n4                1      0            113803  53.1000  C123        S  \n5                0      0            373450   8.0500   NaN        S  ",
      "text/html": "<div>\n<style scoped>\n    .dataframe tbody tr th:only-of-type {\n        vertical-align: middle;\n    }\n\n    .dataframe tbody tr th {\n        vertical-align: top;\n    }\n\n    .dataframe thead th {\n        text-align: right;\n    }\n</style>\n<table border=\"1\" class=\"dataframe\">\n  <thead>\n    <tr style=\"text-align: right;\">\n      <th></th>\n      <th>Survived</th>\n      <th>Pclass</th>\n      <th>Name</th>\n      <th>Sex</th>\n      <th>Age</th>\n      <th>SibSp</th>\n      <th>Parch</th>\n      <th>Ticket</th>\n      <th>Fare</th>\n      <th>Cabin</th>\n      <th>Embarked</th>\n    </tr>\n    <tr>\n      <th>PassengerId</th>\n      <th></th>\n      <th></th>\n      <th></th>\n      <th></th>\n      <th></th>\n      <th></th>\n      <th></th>\n      <th></th>\n      <th></th>\n      <th></th>\n      <th></th>\n    </tr>\n  </thead>\n  <tbody>\n    <tr>\n      <th>1</th>\n      <td>0</td>\n      <td>3</td>\n      <td>Braund, Mr. Owen Harris</td>\n      <td>male</td>\n      <td>22.0</td>\n      <td>1</td>\n      <td>0</td>\n      <td>A/5 21171</td>\n      <td>7.2500</td>\n      <td>NaN</td>\n      <td>S</td>\n    </tr>\n    <tr>\n      <th>2</th>\n      <td>1</td>\n      <td>1</td>\n      <td>Cumings, Mrs. John Bradley (Florence Briggs Th...</td>\n      <td>female</td>\n      <td>38.0</td>\n      <td>1</td>\n      <td>0</td>\n      <td>PC 17599</td>\n      <td>71.2833</td>\n      <td>C85</td>\n      <td>C</td>\n    </tr>\n    <tr>\n      <th>3</th>\n      <td>1</td>\n      <td>3</td>\n      <td>Heikkinen, Miss. Laina</td>\n      <td>female</td>\n      <td>26.0</td>\n      <td>0</td>\n      <td>0</td>\n      <td>STON/O2. 3101282</td>\n      <td>7.9250</td>\n      <td>NaN</td>\n      <td>S</td>\n    </tr>\n    <tr>\n      <th>4</th>\n      <td>1</td>\n      <td>1</td>\n      <td>Futrelle, Mrs. Jacques Heath (Lily May Peel)</td>\n      <td>female</td>\n      <td>35.0</td>\n      <td>1</td>\n      <td>0</td>\n      <td>113803</td>\n      <td>53.1000</td>\n      <td>C123</td>\n      <td>S</td>\n    </tr>\n    <tr>\n      <th>5</th>\n      <td>0</td>\n      <td>3</td>\n      <td>Allen, Mr. William Henry</td>\n      <td>male</td>\n      <td>35.0</td>\n      <td>0</td>\n      <td>0</td>\n      <td>373450</td>\n      <td>8.0500</td>\n      <td>NaN</td>\n      <td>S</td>\n    </tr>\n  </tbody>\n</table>\n</div>"
     },
     "metadata": {},
     "output_type": "execute_result",
     "execution_count": 10
    }
   ],
   "source": [
    "df.head()"
   ]
  },
  {
   "cell_type": "code",
   "execution_count": 11,
   "metadata": {
    "pycharm": {
     "is_executing": false
    }
   },
   "outputs": [
    {
     "data": {
      "text/plain": "             Survived  Pclass                          Name     Sex   Age  \\\nPassengerId                                                                 \n1305             -999       3            Spector, Mr. Woolf    male   NaN   \n1306             -999       1  Oliva y Ocana, Dona. Fermina  female  39.0   \n1307             -999       3  Saether, Mr. Simon Sivertsen    male  38.5   \n1308             -999       3           Ware, Mr. Frederick    male   NaN   \n1309             -999       3      Peter, Master. Michael J    male   NaN   \n\n             SibSp  Parch              Ticket      Fare Cabin Embarked  \nPassengerId                                                             \n1305             0      0           A.5. 3236    8.0500   NaN        S  \n1306             0      0            PC 17758  108.9000  C105        C  \n1307             0      0  SOTON/O.Q. 3101262    7.2500   NaN        S  \n1308             0      0              359309    8.0500   NaN        S  \n1309             1      1                2668   22.3583   NaN        C  ",
      "text/html": "<div>\n<style scoped>\n    .dataframe tbody tr th:only-of-type {\n        vertical-align: middle;\n    }\n\n    .dataframe tbody tr th {\n        vertical-align: top;\n    }\n\n    .dataframe thead th {\n        text-align: right;\n    }\n</style>\n<table border=\"1\" class=\"dataframe\">\n  <thead>\n    <tr style=\"text-align: right;\">\n      <th></th>\n      <th>Survived</th>\n      <th>Pclass</th>\n      <th>Name</th>\n      <th>Sex</th>\n      <th>Age</th>\n      <th>SibSp</th>\n      <th>Parch</th>\n      <th>Ticket</th>\n      <th>Fare</th>\n      <th>Cabin</th>\n      <th>Embarked</th>\n    </tr>\n    <tr>\n      <th>PassengerId</th>\n      <th></th>\n      <th></th>\n      <th></th>\n      <th></th>\n      <th></th>\n      <th></th>\n      <th></th>\n      <th></th>\n      <th></th>\n      <th></th>\n      <th></th>\n    </tr>\n  </thead>\n  <tbody>\n    <tr>\n      <th>1305</th>\n      <td>-999</td>\n      <td>3</td>\n      <td>Spector, Mr. Woolf</td>\n      <td>male</td>\n      <td>NaN</td>\n      <td>0</td>\n      <td>0</td>\n      <td>A.5. 3236</td>\n      <td>8.0500</td>\n      <td>NaN</td>\n      <td>S</td>\n    </tr>\n    <tr>\n      <th>1306</th>\n      <td>-999</td>\n      <td>1</td>\n      <td>Oliva y Ocana, Dona. Fermina</td>\n      <td>female</td>\n      <td>39.0</td>\n      <td>0</td>\n      <td>0</td>\n      <td>PC 17758</td>\n      <td>108.9000</td>\n      <td>C105</td>\n      <td>C</td>\n    </tr>\n    <tr>\n      <th>1307</th>\n      <td>-999</td>\n      <td>3</td>\n      <td>Saether, Mr. Simon Sivertsen</td>\n      <td>male</td>\n      <td>38.5</td>\n      <td>0</td>\n      <td>0</td>\n      <td>SOTON/O.Q. 3101262</td>\n      <td>7.2500</td>\n      <td>NaN</td>\n      <td>S</td>\n    </tr>\n    <tr>\n      <th>1308</th>\n      <td>-999</td>\n      <td>3</td>\n      <td>Ware, Mr. Frederick</td>\n      <td>male</td>\n      <td>NaN</td>\n      <td>0</td>\n      <td>0</td>\n      <td>359309</td>\n      <td>8.0500</td>\n      <td>NaN</td>\n      <td>S</td>\n    </tr>\n    <tr>\n      <th>1309</th>\n      <td>-999</td>\n      <td>3</td>\n      <td>Peter, Master. Michael J</td>\n      <td>male</td>\n      <td>NaN</td>\n      <td>1</td>\n      <td>1</td>\n      <td>2668</td>\n      <td>22.3583</td>\n      <td>NaN</td>\n      <td>C</td>\n    </tr>\n  </tbody>\n</table>\n</div>"
     },
     "metadata": {},
     "output_type": "execute_result",
     "execution_count": 11
    }
   ],
   "source": [
    "df.tail()"
   ]
  },
  {
   "cell_type": "code",
   "execution_count": 12,
   "metadata": {
    "pycharm": {
     "is_executing": false
    }
   },
   "outputs": [
    {
     "data": {
      "text/plain": "PassengerId\n1                                 Braund, Mr. Owen Harris\n2       Cumings, Mrs. John Bradley (Florence Briggs Th...\n3                                  Heikkinen, Miss. Laina\n4            Futrelle, Mrs. Jacques Heath (Lily May Peel)\n5                                Allen, Mr. William Henry\n6                                        Moran, Mr. James\n7                                 McCarthy, Mr. Timothy J\n8                          Palsson, Master. Gosta Leonard\n9       Johnson, Mrs. Oscar W (Elisabeth Vilhelmina Berg)\n10                    Nasser, Mrs. Nicholas (Adele Achem)\n11                        Sandstrom, Miss. Marguerite Rut\n12                               Bonnell, Miss. Elizabeth\n13                         Saundercock, Mr. William Henry\n14                            Andersson, Mr. Anders Johan\n15                   Vestrom, Miss. Hulda Amanda Adolfina\n16                       Hewlett, Mrs. (Mary D Kingcome) \n17                                   Rice, Master. Eugene\n18                           Williams, Mr. Charles Eugene\n19      Vander Planke, Mrs. Julius (Emelia Maria Vande...\n20                                Masselmani, Mrs. Fatima\n21                                   Fynney, Mr. Joseph J\n22                                  Beesley, Mr. Lawrence\n23                            McGowan, Miss. Anna \"Annie\"\n24                           Sloper, Mr. William Thompson\n25                          Palsson, Miss. Torborg Danira\n26      Asplund, Mrs. Carl Oscar (Selma Augusta Emilia...\n27                                Emir, Mr. Farred Chehab\n28                         Fortune, Mr. Charles Alexander\n29                          O'Dwyer, Miss. Ellen \"Nellie\"\n30                                    Todoroff, Mr. Lalio\n                              ...                        \n1280                                 Canavan, Mr. Patrick\n1281                          Palsson, Master. Paul Folke\n1282                           Payne, Mr. Vivian Ponsonby\n1283       Lines, Mrs. Ernest H (Elizabeth Lindsey James)\n1284                        Abbott, Master. Eugene Joseph\n1285                                 Gilbert, Mr. William\n1286                             Kink-Heilmann, Mr. Anton\n1287       Smith, Mrs. Lucien Philip (Mary Eloise Hughes)\n1288                                 Colbert, Mr. Patrick\n1289    Frolicher-Stehli, Mrs. Maxmillian (Margaretha ...\n1290                       Larsson-Rondberg, Mr. Edvard A\n1291                             Conlon, Mr. Thomas Henry\n1292                              Bonnell, Miss. Caroline\n1293                                      Gale, Mr. Harry\n1294                       Gibson, Miss. Dorothy Winifred\n1295                               Carrau, Mr. Jose Pedro\n1296                         Frauenthal, Mr. Isaac Gerald\n1297         Nourney, Mr. Alfred (Baron von Drachstedt\")\"\n1298                            Ware, Mr. William Jeffery\n1299                           Widener, Mr. George Dunton\n1300                      Riordan, Miss. Johanna Hannah\"\"\n1301                            Peacock, Miss. Treasteall\n1302                               Naughton, Miss. Hannah\n1303      Minahan, Mrs. William Edward (Lillian E Thorpe)\n1304                       Henriksson, Miss. Jenny Lovisa\n1305                                   Spector, Mr. Woolf\n1306                         Oliva y Ocana, Dona. Fermina\n1307                         Saether, Mr. Simon Sivertsen\n1308                                  Ware, Mr. Frederick\n1309                             Peter, Master. Michael J\nName: Name, Length: 1309, dtype: object"
     },
     "metadata": {},
     "output_type": "execute_result",
     "execution_count": 12
    }
   ],
   "source": [
    "df.Name"
   ]
  },
  {
   "cell_type": "code",
   "execution_count": 13,
   "metadata": {
    "pycharm": {
     "is_executing": false
    }
   },
   "outputs": [
    {
     "data": {
      "text/plain": "PassengerId\n1                                 Braund, Mr. Owen Harris\n2       Cumings, Mrs. John Bradley (Florence Briggs Th...\n3                                  Heikkinen, Miss. Laina\n4            Futrelle, Mrs. Jacques Heath (Lily May Peel)\n5                                Allen, Mr. William Henry\n6                                        Moran, Mr. James\n7                                 McCarthy, Mr. Timothy J\n8                          Palsson, Master. Gosta Leonard\n9       Johnson, Mrs. Oscar W (Elisabeth Vilhelmina Berg)\n10                    Nasser, Mrs. Nicholas (Adele Achem)\n11                        Sandstrom, Miss. Marguerite Rut\n12                               Bonnell, Miss. Elizabeth\n13                         Saundercock, Mr. William Henry\n14                            Andersson, Mr. Anders Johan\n15                   Vestrom, Miss. Hulda Amanda Adolfina\n16                       Hewlett, Mrs. (Mary D Kingcome) \n17                                   Rice, Master. Eugene\n18                           Williams, Mr. Charles Eugene\n19      Vander Planke, Mrs. Julius (Emelia Maria Vande...\n20                                Masselmani, Mrs. Fatima\n21                                   Fynney, Mr. Joseph J\n22                                  Beesley, Mr. Lawrence\n23                            McGowan, Miss. Anna \"Annie\"\n24                           Sloper, Mr. William Thompson\n25                          Palsson, Miss. Torborg Danira\n26      Asplund, Mrs. Carl Oscar (Selma Augusta Emilia...\n27                                Emir, Mr. Farred Chehab\n28                         Fortune, Mr. Charles Alexander\n29                          O'Dwyer, Miss. Ellen \"Nellie\"\n30                                    Todoroff, Mr. Lalio\n                              ...                        \n1280                                 Canavan, Mr. Patrick\n1281                          Palsson, Master. Paul Folke\n1282                           Payne, Mr. Vivian Ponsonby\n1283       Lines, Mrs. Ernest H (Elizabeth Lindsey James)\n1284                        Abbott, Master. Eugene Joseph\n1285                                 Gilbert, Mr. William\n1286                             Kink-Heilmann, Mr. Anton\n1287       Smith, Mrs. Lucien Philip (Mary Eloise Hughes)\n1288                                 Colbert, Mr. Patrick\n1289    Frolicher-Stehli, Mrs. Maxmillian (Margaretha ...\n1290                       Larsson-Rondberg, Mr. Edvard A\n1291                             Conlon, Mr. Thomas Henry\n1292                              Bonnell, Miss. Caroline\n1293                                      Gale, Mr. Harry\n1294                       Gibson, Miss. Dorothy Winifred\n1295                               Carrau, Mr. Jose Pedro\n1296                         Frauenthal, Mr. Isaac Gerald\n1297         Nourney, Mr. Alfred (Baron von Drachstedt\")\"\n1298                            Ware, Mr. William Jeffery\n1299                           Widener, Mr. George Dunton\n1300                      Riordan, Miss. Johanna Hannah\"\"\n1301                            Peacock, Miss. Treasteall\n1302                               Naughton, Miss. Hannah\n1303      Minahan, Mrs. William Edward (Lillian E Thorpe)\n1304                       Henriksson, Miss. Jenny Lovisa\n1305                                   Spector, Mr. Woolf\n1306                         Oliva y Ocana, Dona. Fermina\n1307                         Saether, Mr. Simon Sivertsen\n1308                                  Ware, Mr. Frederick\n1309                             Peter, Master. Michael J\nName: Name, Length: 1309, dtype: object"
     },
     "metadata": {},
     "output_type": "execute_result",
     "execution_count": 13
    }
   ],
   "source": [
    "df['Name']"
   ]
  },
  {
   "cell_type": "code",
   "execution_count": 14,
   "metadata": {
    "pycharm": {
     "is_executing": false
    }
   },
   "outputs": [
    {
     "data": {
      "text/plain": "                                                          Name   Age\nPassengerId                                                         \n1                                      Braund, Mr. Owen Harris  22.0\n2            Cumings, Mrs. John Bradley (Florence Briggs Th...  38.0\n3                                       Heikkinen, Miss. Laina  26.0\n4                 Futrelle, Mrs. Jacques Heath (Lily May Peel)  35.0\n5                                     Allen, Mr. William Henry  35.0\n6                                             Moran, Mr. James   NaN\n7                                      McCarthy, Mr. Timothy J  54.0\n8                               Palsson, Master. Gosta Leonard   2.0\n9            Johnson, Mrs. Oscar W (Elisabeth Vilhelmina Berg)  27.0\n10                         Nasser, Mrs. Nicholas (Adele Achem)  14.0\n11                             Sandstrom, Miss. Marguerite Rut   4.0\n12                                    Bonnell, Miss. Elizabeth  58.0\n13                              Saundercock, Mr. William Henry  20.0\n14                                 Andersson, Mr. Anders Johan  39.0\n15                        Vestrom, Miss. Hulda Amanda Adolfina  14.0\n16                            Hewlett, Mrs. (Mary D Kingcome)   55.0\n17                                        Rice, Master. Eugene   2.0\n18                                Williams, Mr. Charles Eugene   NaN\n19           Vander Planke, Mrs. Julius (Emelia Maria Vande...  31.0\n20                                     Masselmani, Mrs. Fatima   NaN\n21                                        Fynney, Mr. Joseph J  35.0\n22                                       Beesley, Mr. Lawrence  34.0\n23                                 McGowan, Miss. Anna \"Annie\"  15.0\n24                                Sloper, Mr. William Thompson  28.0\n25                               Palsson, Miss. Torborg Danira   8.0\n26           Asplund, Mrs. Carl Oscar (Selma Augusta Emilia...  38.0\n27                                     Emir, Mr. Farred Chehab   NaN\n28                              Fortune, Mr. Charles Alexander  19.0\n29                               O'Dwyer, Miss. Ellen \"Nellie\"   NaN\n30                                         Todoroff, Mr. Lalio   NaN\n...                                                        ...   ...\n1280                                      Canavan, Mr. Patrick  21.0\n1281                               Palsson, Master. Paul Folke   6.0\n1282                                Payne, Mr. Vivian Ponsonby  23.0\n1283            Lines, Mrs. Ernest H (Elizabeth Lindsey James)  51.0\n1284                             Abbott, Master. Eugene Joseph  13.0\n1285                                      Gilbert, Mr. William  47.0\n1286                                  Kink-Heilmann, Mr. Anton  29.0\n1287            Smith, Mrs. Lucien Philip (Mary Eloise Hughes)  18.0\n1288                                      Colbert, Mr. Patrick  24.0\n1289         Frolicher-Stehli, Mrs. Maxmillian (Margaretha ...  48.0\n1290                            Larsson-Rondberg, Mr. Edvard A  22.0\n1291                                  Conlon, Mr. Thomas Henry  31.0\n1292                                   Bonnell, Miss. Caroline  30.0\n1293                                           Gale, Mr. Harry  38.0\n1294                            Gibson, Miss. Dorothy Winifred  22.0\n1295                                    Carrau, Mr. Jose Pedro  17.0\n1296                              Frauenthal, Mr. Isaac Gerald  43.0\n1297              Nourney, Mr. Alfred (Baron von Drachstedt\")\"  20.0\n1298                                 Ware, Mr. William Jeffery  23.0\n1299                                Widener, Mr. George Dunton  50.0\n1300                           Riordan, Miss. Johanna Hannah\"\"   NaN\n1301                                 Peacock, Miss. Treasteall   3.0\n1302                                    Naughton, Miss. Hannah   NaN\n1303           Minahan, Mrs. William Edward (Lillian E Thorpe)  37.0\n1304                            Henriksson, Miss. Jenny Lovisa  28.0\n1305                                        Spector, Mr. Woolf   NaN\n1306                              Oliva y Ocana, Dona. Fermina  39.0\n1307                              Saether, Mr. Simon Sivertsen  38.5\n1308                                       Ware, Mr. Frederick   NaN\n1309                                  Peter, Master. Michael J   NaN\n\n[1309 rows x 2 columns]",
      "text/html": "<div>\n<style scoped>\n    .dataframe tbody tr th:only-of-type {\n        vertical-align: middle;\n    }\n\n    .dataframe tbody tr th {\n        vertical-align: top;\n    }\n\n    .dataframe thead th {\n        text-align: right;\n    }\n</style>\n<table border=\"1\" class=\"dataframe\">\n  <thead>\n    <tr style=\"text-align: right;\">\n      <th></th>\n      <th>Name</th>\n      <th>Age</th>\n    </tr>\n    <tr>\n      <th>PassengerId</th>\n      <th></th>\n      <th></th>\n    </tr>\n  </thead>\n  <tbody>\n    <tr>\n      <th>1</th>\n      <td>Braund, Mr. Owen Harris</td>\n      <td>22.0</td>\n    </tr>\n    <tr>\n      <th>2</th>\n      <td>Cumings, Mrs. John Bradley (Florence Briggs Th...</td>\n      <td>38.0</td>\n    </tr>\n    <tr>\n      <th>3</th>\n      <td>Heikkinen, Miss. Laina</td>\n      <td>26.0</td>\n    </tr>\n    <tr>\n      <th>4</th>\n      <td>Futrelle, Mrs. Jacques Heath (Lily May Peel)</td>\n      <td>35.0</td>\n    </tr>\n    <tr>\n      <th>5</th>\n      <td>Allen, Mr. William Henry</td>\n      <td>35.0</td>\n    </tr>\n    <tr>\n      <th>6</th>\n      <td>Moran, Mr. James</td>\n      <td>NaN</td>\n    </tr>\n    <tr>\n      <th>7</th>\n      <td>McCarthy, Mr. Timothy J</td>\n      <td>54.0</td>\n    </tr>\n    <tr>\n      <th>8</th>\n      <td>Palsson, Master. Gosta Leonard</td>\n      <td>2.0</td>\n    </tr>\n    <tr>\n      <th>9</th>\n      <td>Johnson, Mrs. Oscar W (Elisabeth Vilhelmina Berg)</td>\n      <td>27.0</td>\n    </tr>\n    <tr>\n      <th>10</th>\n      <td>Nasser, Mrs. Nicholas (Adele Achem)</td>\n      <td>14.0</td>\n    </tr>\n    <tr>\n      <th>11</th>\n      <td>Sandstrom, Miss. Marguerite Rut</td>\n      <td>4.0</td>\n    </tr>\n    <tr>\n      <th>12</th>\n      <td>Bonnell, Miss. Elizabeth</td>\n      <td>58.0</td>\n    </tr>\n    <tr>\n      <th>13</th>\n      <td>Saundercock, Mr. William Henry</td>\n      <td>20.0</td>\n    </tr>\n    <tr>\n      <th>14</th>\n      <td>Andersson, Mr. Anders Johan</td>\n      <td>39.0</td>\n    </tr>\n    <tr>\n      <th>15</th>\n      <td>Vestrom, Miss. Hulda Amanda Adolfina</td>\n      <td>14.0</td>\n    </tr>\n    <tr>\n      <th>16</th>\n      <td>Hewlett, Mrs. (Mary D Kingcome)</td>\n      <td>55.0</td>\n    </tr>\n    <tr>\n      <th>17</th>\n      <td>Rice, Master. Eugene</td>\n      <td>2.0</td>\n    </tr>\n    <tr>\n      <th>18</th>\n      <td>Williams, Mr. Charles Eugene</td>\n      <td>NaN</td>\n    </tr>\n    <tr>\n      <th>19</th>\n      <td>Vander Planke, Mrs. Julius (Emelia Maria Vande...</td>\n      <td>31.0</td>\n    </tr>\n    <tr>\n      <th>20</th>\n      <td>Masselmani, Mrs. Fatima</td>\n      <td>NaN</td>\n    </tr>\n    <tr>\n      <th>21</th>\n      <td>Fynney, Mr. Joseph J</td>\n      <td>35.0</td>\n    </tr>\n    <tr>\n      <th>22</th>\n      <td>Beesley, Mr. Lawrence</td>\n      <td>34.0</td>\n    </tr>\n    <tr>\n      <th>23</th>\n      <td>McGowan, Miss. Anna \"Annie\"</td>\n      <td>15.0</td>\n    </tr>\n    <tr>\n      <th>24</th>\n      <td>Sloper, Mr. William Thompson</td>\n      <td>28.0</td>\n    </tr>\n    <tr>\n      <th>25</th>\n      <td>Palsson, Miss. Torborg Danira</td>\n      <td>8.0</td>\n    </tr>\n    <tr>\n      <th>26</th>\n      <td>Asplund, Mrs. Carl Oscar (Selma Augusta Emilia...</td>\n      <td>38.0</td>\n    </tr>\n    <tr>\n      <th>27</th>\n      <td>Emir, Mr. Farred Chehab</td>\n      <td>NaN</td>\n    </tr>\n    <tr>\n      <th>28</th>\n      <td>Fortune, Mr. Charles Alexander</td>\n      <td>19.0</td>\n    </tr>\n    <tr>\n      <th>29</th>\n      <td>O'Dwyer, Miss. Ellen \"Nellie\"</td>\n      <td>NaN</td>\n    </tr>\n    <tr>\n      <th>30</th>\n      <td>Todoroff, Mr. Lalio</td>\n      <td>NaN</td>\n    </tr>\n    <tr>\n      <th>...</th>\n      <td>...</td>\n      <td>...</td>\n    </tr>\n    <tr>\n      <th>1280</th>\n      <td>Canavan, Mr. Patrick</td>\n      <td>21.0</td>\n    </tr>\n    <tr>\n      <th>1281</th>\n      <td>Palsson, Master. Paul Folke</td>\n      <td>6.0</td>\n    </tr>\n    <tr>\n      <th>1282</th>\n      <td>Payne, Mr. Vivian Ponsonby</td>\n      <td>23.0</td>\n    </tr>\n    <tr>\n      <th>1283</th>\n      <td>Lines, Mrs. Ernest H (Elizabeth Lindsey James)</td>\n      <td>51.0</td>\n    </tr>\n    <tr>\n      <th>1284</th>\n      <td>Abbott, Master. Eugene Joseph</td>\n      <td>13.0</td>\n    </tr>\n    <tr>\n      <th>1285</th>\n      <td>Gilbert, Mr. William</td>\n      <td>47.0</td>\n    </tr>\n    <tr>\n      <th>1286</th>\n      <td>Kink-Heilmann, Mr. Anton</td>\n      <td>29.0</td>\n    </tr>\n    <tr>\n      <th>1287</th>\n      <td>Smith, Mrs. Lucien Philip (Mary Eloise Hughes)</td>\n      <td>18.0</td>\n    </tr>\n    <tr>\n      <th>1288</th>\n      <td>Colbert, Mr. Patrick</td>\n      <td>24.0</td>\n    </tr>\n    <tr>\n      <th>1289</th>\n      <td>Frolicher-Stehli, Mrs. Maxmillian (Margaretha ...</td>\n      <td>48.0</td>\n    </tr>\n    <tr>\n      <th>1290</th>\n      <td>Larsson-Rondberg, Mr. Edvard A</td>\n      <td>22.0</td>\n    </tr>\n    <tr>\n      <th>1291</th>\n      <td>Conlon, Mr. Thomas Henry</td>\n      <td>31.0</td>\n    </tr>\n    <tr>\n      <th>1292</th>\n      <td>Bonnell, Miss. Caroline</td>\n      <td>30.0</td>\n    </tr>\n    <tr>\n      <th>1293</th>\n      <td>Gale, Mr. Harry</td>\n      <td>38.0</td>\n    </tr>\n    <tr>\n      <th>1294</th>\n      <td>Gibson, Miss. Dorothy Winifred</td>\n      <td>22.0</td>\n    </tr>\n    <tr>\n      <th>1295</th>\n      <td>Carrau, Mr. Jose Pedro</td>\n      <td>17.0</td>\n    </tr>\n    <tr>\n      <th>1296</th>\n      <td>Frauenthal, Mr. Isaac Gerald</td>\n      <td>43.0</td>\n    </tr>\n    <tr>\n      <th>1297</th>\n      <td>Nourney, Mr. Alfred (Baron von Drachstedt\")\"</td>\n      <td>20.0</td>\n    </tr>\n    <tr>\n      <th>1298</th>\n      <td>Ware, Mr. William Jeffery</td>\n      <td>23.0</td>\n    </tr>\n    <tr>\n      <th>1299</th>\n      <td>Widener, Mr. George Dunton</td>\n      <td>50.0</td>\n    </tr>\n    <tr>\n      <th>1300</th>\n      <td>Riordan, Miss. Johanna Hannah\"\"</td>\n      <td>NaN</td>\n    </tr>\n    <tr>\n      <th>1301</th>\n      <td>Peacock, Miss. Treasteall</td>\n      <td>3.0</td>\n    </tr>\n    <tr>\n      <th>1302</th>\n      <td>Naughton, Miss. Hannah</td>\n      <td>NaN</td>\n    </tr>\n    <tr>\n      <th>1303</th>\n      <td>Minahan, Mrs. William Edward (Lillian E Thorpe)</td>\n      <td>37.0</td>\n    </tr>\n    <tr>\n      <th>1304</th>\n      <td>Henriksson, Miss. Jenny Lovisa</td>\n      <td>28.0</td>\n    </tr>\n    <tr>\n      <th>1305</th>\n      <td>Spector, Mr. Woolf</td>\n      <td>NaN</td>\n    </tr>\n    <tr>\n      <th>1306</th>\n      <td>Oliva y Ocana, Dona. Fermina</td>\n      <td>39.0</td>\n    </tr>\n    <tr>\n      <th>1307</th>\n      <td>Saether, Mr. Simon Sivertsen</td>\n      <td>38.5</td>\n    </tr>\n    <tr>\n      <th>1308</th>\n      <td>Ware, Mr. Frederick</td>\n      <td>NaN</td>\n    </tr>\n    <tr>\n      <th>1309</th>\n      <td>Peter, Master. Michael J</td>\n      <td>NaN</td>\n    </tr>\n  </tbody>\n</table>\n<p>1309 rows × 2 columns</p>\n</div>"
     },
     "metadata": {},
     "output_type": "execute_result",
     "execution_count": 14
    }
   ],
   "source": [
    "df[['Name', 'Age']]"
   ]
  },
  {
   "cell_type": "code",
   "execution_count": 15,
   "metadata": {
    "pycharm": {
     "is_executing": false
    }
   },
   "outputs": [
    {
     "data": {
      "text/plain": "             Survived  Pclass  \\\nPassengerId                     \n5                   0       3   \n6                   0       3   \n7                   0       1   \n8                   0       3   \n9                   1       3   \n10                  1       2   \n\n                                                          Name     Sex   Age  \\\nPassengerId                                                                    \n5                                     Allen, Mr. William Henry    male  35.0   \n6                                             Moran, Mr. James    male   NaN   \n7                                      McCarthy, Mr. Timothy J    male  54.0   \n8                               Palsson, Master. Gosta Leonard    male   2.0   \n9            Johnson, Mrs. Oscar W (Elisabeth Vilhelmina Berg)  female  27.0   \n10                         Nasser, Mrs. Nicholas (Adele Achem)  female  14.0   \n\n             SibSp  Parch  Ticket     Fare Cabin Embarked  \nPassengerId                                                \n5                0      0  373450   8.0500   NaN        S  \n6                0      0  330877   8.4583   NaN        Q  \n7                0      0   17463  51.8625   E46        S  \n8                3      1  349909  21.0750   NaN        S  \n9                0      2  347742  11.1333   NaN        S  \n10               1      0  237736  30.0708   NaN        C  ",
      "text/html": "<div>\n<style scoped>\n    .dataframe tbody tr th:only-of-type {\n        vertical-align: middle;\n    }\n\n    .dataframe tbody tr th {\n        vertical-align: top;\n    }\n\n    .dataframe thead th {\n        text-align: right;\n    }\n</style>\n<table border=\"1\" class=\"dataframe\">\n  <thead>\n    <tr style=\"text-align: right;\">\n      <th></th>\n      <th>Survived</th>\n      <th>Pclass</th>\n      <th>Name</th>\n      <th>Sex</th>\n      <th>Age</th>\n      <th>SibSp</th>\n      <th>Parch</th>\n      <th>Ticket</th>\n      <th>Fare</th>\n      <th>Cabin</th>\n      <th>Embarked</th>\n    </tr>\n    <tr>\n      <th>PassengerId</th>\n      <th></th>\n      <th></th>\n      <th></th>\n      <th></th>\n      <th></th>\n      <th></th>\n      <th></th>\n      <th></th>\n      <th></th>\n      <th></th>\n      <th></th>\n    </tr>\n  </thead>\n  <tbody>\n    <tr>\n      <th>5</th>\n      <td>0</td>\n      <td>3</td>\n      <td>Allen, Mr. William Henry</td>\n      <td>male</td>\n      <td>35.0</td>\n      <td>0</td>\n      <td>0</td>\n      <td>373450</td>\n      <td>8.0500</td>\n      <td>NaN</td>\n      <td>S</td>\n    </tr>\n    <tr>\n      <th>6</th>\n      <td>0</td>\n      <td>3</td>\n      <td>Moran, Mr. James</td>\n      <td>male</td>\n      <td>NaN</td>\n      <td>0</td>\n      <td>0</td>\n      <td>330877</td>\n      <td>8.4583</td>\n      <td>NaN</td>\n      <td>Q</td>\n    </tr>\n    <tr>\n      <th>7</th>\n      <td>0</td>\n      <td>1</td>\n      <td>McCarthy, Mr. Timothy J</td>\n      <td>male</td>\n      <td>54.0</td>\n      <td>0</td>\n      <td>0</td>\n      <td>17463</td>\n      <td>51.8625</td>\n      <td>E46</td>\n      <td>S</td>\n    </tr>\n    <tr>\n      <th>8</th>\n      <td>0</td>\n      <td>3</td>\n      <td>Palsson, Master. Gosta Leonard</td>\n      <td>male</td>\n      <td>2.0</td>\n      <td>3</td>\n      <td>1</td>\n      <td>349909</td>\n      <td>21.0750</td>\n      <td>NaN</td>\n      <td>S</td>\n    </tr>\n    <tr>\n      <th>9</th>\n      <td>1</td>\n      <td>3</td>\n      <td>Johnson, Mrs. Oscar W (Elisabeth Vilhelmina Berg)</td>\n      <td>female</td>\n      <td>27.0</td>\n      <td>0</td>\n      <td>2</td>\n      <td>347742</td>\n      <td>11.1333</td>\n      <td>NaN</td>\n      <td>S</td>\n    </tr>\n    <tr>\n      <th>10</th>\n      <td>1</td>\n      <td>2</td>\n      <td>Nasser, Mrs. Nicholas (Adele Achem)</td>\n      <td>female</td>\n      <td>14.0</td>\n      <td>1</td>\n      <td>0</td>\n      <td>237736</td>\n      <td>30.0708</td>\n      <td>NaN</td>\n      <td>C</td>\n    </tr>\n  </tbody>\n</table>\n</div>"
     },
     "metadata": {},
     "output_type": "execute_result",
     "execution_count": 15
    }
   ],
   "source": [
    "# read five rows and all columns\n",
    "df.loc[5:10,]"
   ]
  },
  {
   "cell_type": "code",
   "execution_count": 16,
   "metadata": {
    "pycharm": {
     "is_executing": false
    }
   },
   "outputs": [
    {
     "data": {
      "text/plain": "             Pclass                                               Name  \\\nPassengerId                                                              \n5                 3                           Allen, Mr. William Henry   \n6                 3                                   Moran, Mr. James   \n7                 1                            McCarthy, Mr. Timothy J   \n8                 3                     Palsson, Master. Gosta Leonard   \n9                 3  Johnson, Mrs. Oscar W (Elisabeth Vilhelmina Berg)   \n10                2                Nasser, Mrs. Nicholas (Adele Achem)   \n\n                Sex   Age  \nPassengerId                \n5              male  35.0  \n6              male   NaN  \n7              male  54.0  \n8              male   2.0  \n9            female  27.0  \n10           female  14.0  ",
      "text/html": "<div>\n<style scoped>\n    .dataframe tbody tr th:only-of-type {\n        vertical-align: middle;\n    }\n\n    .dataframe tbody tr th {\n        vertical-align: top;\n    }\n\n    .dataframe thead th {\n        text-align: right;\n    }\n</style>\n<table border=\"1\" class=\"dataframe\">\n  <thead>\n    <tr style=\"text-align: right;\">\n      <th></th>\n      <th>Pclass</th>\n      <th>Name</th>\n      <th>Sex</th>\n      <th>Age</th>\n    </tr>\n    <tr>\n      <th>PassengerId</th>\n      <th></th>\n      <th></th>\n      <th></th>\n      <th></th>\n    </tr>\n  </thead>\n  <tbody>\n    <tr>\n      <th>5</th>\n      <td>3</td>\n      <td>Allen, Mr. William Henry</td>\n      <td>male</td>\n      <td>35.0</td>\n    </tr>\n    <tr>\n      <th>6</th>\n      <td>3</td>\n      <td>Moran, Mr. James</td>\n      <td>male</td>\n      <td>NaN</td>\n    </tr>\n    <tr>\n      <th>7</th>\n      <td>1</td>\n      <td>McCarthy, Mr. Timothy J</td>\n      <td>male</td>\n      <td>54.0</td>\n    </tr>\n    <tr>\n      <th>8</th>\n      <td>3</td>\n      <td>Palsson, Master. Gosta Leonard</td>\n      <td>male</td>\n      <td>2.0</td>\n    </tr>\n    <tr>\n      <th>9</th>\n      <td>3</td>\n      <td>Johnson, Mrs. Oscar W (Elisabeth Vilhelmina Berg)</td>\n      <td>female</td>\n      <td>27.0</td>\n    </tr>\n    <tr>\n      <th>10</th>\n      <td>2</td>\n      <td>Nasser, Mrs. Nicholas (Adele Achem)</td>\n      <td>female</td>\n      <td>14.0</td>\n    </tr>\n  </tbody>\n</table>\n</div>"
     },
     "metadata": {},
     "output_type": "execute_result",
     "execution_count": 16
    }
   ],
   "source": [
    "### selecting column range\n",
    "df.loc[5:10, 'Pclass': 'Age']"
   ]
  },
  {
   "cell_type": "code",
   "execution_count": 17,
   "metadata": {
    "pycharm": {
     "is_executing": false
    }
   },
   "outputs": [
    {
     "data": {
      "text/plain": "             Survived     Fare Embarked\nPassengerId                            \n5                   0   8.0500        S\n6                   0   8.4583        Q\n7                   0  51.8625        S\n8                   0  21.0750        S\n9                   1  11.1333        S\n10                  1  30.0708        C",
      "text/html": "<div>\n<style scoped>\n    .dataframe tbody tr th:only-of-type {\n        vertical-align: middle;\n    }\n\n    .dataframe tbody tr th {\n        vertical-align: top;\n    }\n\n    .dataframe thead th {\n        text-align: right;\n    }\n</style>\n<table border=\"1\" class=\"dataframe\">\n  <thead>\n    <tr style=\"text-align: right;\">\n      <th></th>\n      <th>Survived</th>\n      <th>Fare</th>\n      <th>Embarked</th>\n    </tr>\n    <tr>\n      <th>PassengerId</th>\n      <th></th>\n      <th></th>\n      <th></th>\n    </tr>\n  </thead>\n  <tbody>\n    <tr>\n      <th>5</th>\n      <td>0</td>\n      <td>8.0500</td>\n      <td>S</td>\n    </tr>\n    <tr>\n      <th>6</th>\n      <td>0</td>\n      <td>8.4583</td>\n      <td>Q</td>\n    </tr>\n    <tr>\n      <th>7</th>\n      <td>0</td>\n      <td>51.8625</td>\n      <td>S</td>\n    </tr>\n    <tr>\n      <th>8</th>\n      <td>0</td>\n      <td>21.0750</td>\n      <td>S</td>\n    </tr>\n    <tr>\n      <th>9</th>\n      <td>1</td>\n      <td>11.1333</td>\n      <td>S</td>\n    </tr>\n    <tr>\n      <th>10</th>\n      <td>1</td>\n      <td>30.0708</td>\n      <td>C</td>\n    </tr>\n  </tbody>\n</table>\n</div>"
     },
     "metadata": {},
     "output_type": "execute_result",
     "execution_count": 17
    }
   ],
   "source": [
    "# selecting specific columns\n",
    "df.loc[5:10, ['Survived', 'Fare', 'Embarked']]"
   ]
  },
  {
   "cell_type": "code",
   "execution_count": 18,
   "metadata": {
    "pycharm": {
     "is_executing": false
    }
   },
   "outputs": [
    {
     "data": {
      "text/plain": "                Sex   Age  SibSp  Parch  Ticket\nPassengerId                                    \n6              male   NaN      0      0  330877\n7              male  54.0      0      0   17463\n8              male   2.0      3      1  349909\n9            female  27.0      0      2  347742\n10           female  14.0      1      0  237736",
      "text/html": "<div>\n<style scoped>\n    .dataframe tbody tr th:only-of-type {\n        vertical-align: middle;\n    }\n\n    .dataframe tbody tr th {\n        vertical-align: top;\n    }\n\n    .dataframe thead th {\n        text-align: right;\n    }\n</style>\n<table border=\"1\" class=\"dataframe\">\n  <thead>\n    <tr style=\"text-align: right;\">\n      <th></th>\n      <th>Sex</th>\n      <th>Age</th>\n      <th>SibSp</th>\n      <th>Parch</th>\n      <th>Ticket</th>\n    </tr>\n    <tr>\n      <th>PassengerId</th>\n      <th></th>\n      <th></th>\n      <th></th>\n      <th></th>\n      <th></th>\n    </tr>\n  </thead>\n  <tbody>\n    <tr>\n      <th>6</th>\n      <td>male</td>\n      <td>NaN</td>\n      <td>0</td>\n      <td>0</td>\n      <td>330877</td>\n    </tr>\n    <tr>\n      <th>7</th>\n      <td>male</td>\n      <td>54.0</td>\n      <td>0</td>\n      <td>0</td>\n      <td>17463</td>\n    </tr>\n    <tr>\n      <th>8</th>\n      <td>male</td>\n      <td>2.0</td>\n      <td>3</td>\n      <td>1</td>\n      <td>349909</td>\n    </tr>\n    <tr>\n      <th>9</th>\n      <td>female</td>\n      <td>27.0</td>\n      <td>0</td>\n      <td>2</td>\n      <td>347742</td>\n    </tr>\n    <tr>\n      <th>10</th>\n      <td>female</td>\n      <td>14.0</td>\n      <td>1</td>\n      <td>0</td>\n      <td>237736</td>\n    </tr>\n  </tbody>\n</table>\n</div>"
     },
     "metadata": {},
     "output_type": "execute_result",
     "execution_count": 18
    }
   ],
   "source": [
    "df.iloc[5:10, 3:8]"
   ]
  },
  {
   "cell_type": "code",
   "execution_count": 19,
   "metadata": {
    "pycharm": {
     "is_executing": false
    }
   },
   "outputs": [
    {
     "name": "stdout",
     "text": [
      "Number of male passengers 843\n"
     ],
     "output_type": "stream"
    }
   ],
   "source": [
    "# filter rows based on condition \n",
    "male_passengers = df.loc[df.Sex=='male']\n",
    "print(\"Number of male passengers {0}\".format(len(male_passengers)))"
   ]
  },
  {
   "cell_type": "code",
   "execution_count": 20,
   "metadata": {
    "pycharm": {
     "is_executing": false
    }
   },
   "outputs": [
    {
     "name": "stdout",
     "text": [
      "Number of male passengers in first class 179\n"
     ],
     "output_type": "stream"
    }
   ],
   "source": [
    "# use & or | operators to build complex logic\n",
    "male_passengers_first_class = df.loc[((df.Sex=='male') & (df.Pclass==1))]\n",
    "print(\"Number of male passengers in first class {0}\".format(len(male_passengers_first_class)))"
   ]
  },
  {
   "cell_type": "markdown",
   "metadata": {},
   "source": [
    "### Summary statstics"
   ]
  },
  {
   "cell_type": "code",
   "execution_count": 21,
   "metadata": {
    "pycharm": {
     "is_executing": false
    }
   },
   "outputs": [
    {
     "data": {
      "text/plain": "          Survived       Pclass          Age        SibSp        Parch  \\\ncount  1309.000000  1309.000000  1046.000000  1309.000000  1309.000000   \nmean   -318.747135     2.294882    29.881138     0.498854     0.385027   \nstd     466.107167     0.837836    14.413493     1.041658     0.865560   \nmin    -999.000000     1.000000     0.170000     0.000000     0.000000   \n25%    -999.000000     2.000000    21.000000     0.000000     0.000000   \n50%       0.000000     3.000000    28.000000     0.000000     0.000000   \n75%       1.000000     3.000000    39.000000     1.000000     0.000000   \nmax       1.000000     3.000000    80.000000     8.000000     9.000000   \n\n              Fare  \ncount  1308.000000  \nmean     33.295479  \nstd      51.758668  \nmin       0.000000  \n25%       7.895800  \n50%      14.454200  \n75%      31.275000  \nmax     512.329200  ",
      "text/html": "<div>\n<style scoped>\n    .dataframe tbody tr th:only-of-type {\n        vertical-align: middle;\n    }\n\n    .dataframe tbody tr th {\n        vertical-align: top;\n    }\n\n    .dataframe thead th {\n        text-align: right;\n    }\n</style>\n<table border=\"1\" class=\"dataframe\">\n  <thead>\n    <tr style=\"text-align: right;\">\n      <th></th>\n      <th>Survived</th>\n      <th>Pclass</th>\n      <th>Age</th>\n      <th>SibSp</th>\n      <th>Parch</th>\n      <th>Fare</th>\n    </tr>\n  </thead>\n  <tbody>\n    <tr>\n      <th>count</th>\n      <td>1309.000000</td>\n      <td>1309.000000</td>\n      <td>1046.000000</td>\n      <td>1309.000000</td>\n      <td>1309.000000</td>\n      <td>1308.000000</td>\n    </tr>\n    <tr>\n      <th>mean</th>\n      <td>-318.747135</td>\n      <td>2.294882</td>\n      <td>29.881138</td>\n      <td>0.498854</td>\n      <td>0.385027</td>\n      <td>33.295479</td>\n    </tr>\n    <tr>\n      <th>std</th>\n      <td>466.107167</td>\n      <td>0.837836</td>\n      <td>14.413493</td>\n      <td>1.041658</td>\n      <td>0.865560</td>\n      <td>51.758668</td>\n    </tr>\n    <tr>\n      <th>min</th>\n      <td>-999.000000</td>\n      <td>1.000000</td>\n      <td>0.170000</td>\n      <td>0.000000</td>\n      <td>0.000000</td>\n      <td>0.000000</td>\n    </tr>\n    <tr>\n      <th>25%</th>\n      <td>-999.000000</td>\n      <td>2.000000</td>\n      <td>21.000000</td>\n      <td>0.000000</td>\n      <td>0.000000</td>\n      <td>7.895800</td>\n    </tr>\n    <tr>\n      <th>50%</th>\n      <td>0.000000</td>\n      <td>3.000000</td>\n      <td>28.000000</td>\n      <td>0.000000</td>\n      <td>0.000000</td>\n      <td>14.454200</td>\n    </tr>\n    <tr>\n      <th>75%</th>\n      <td>1.000000</td>\n      <td>3.000000</td>\n      <td>39.000000</td>\n      <td>1.000000</td>\n      <td>0.000000</td>\n      <td>31.275000</td>\n    </tr>\n    <tr>\n      <th>max</th>\n      <td>1.000000</td>\n      <td>3.000000</td>\n      <td>80.000000</td>\n      <td>8.000000</td>\n      <td>9.000000</td>\n      <td>512.329200</td>\n    </tr>\n  </tbody>\n</table>\n</div>"
     },
     "metadata": {},
     "output_type": "execute_result",
     "execution_count": 21
    }
   ],
   "source": [
    "# use describe to get all statstics about numerical columns\n",
    "df.describe()"
   ]
  },
  {
   "cell_type": "code",
   "execution_count": 22,
   "metadata": {
    "pycharm": {
     "is_executing": false
    }
   },
   "outputs": [
    {
     "name": "stdout",
     "text": [
      "Mean Fare 33.2954792813456\nMedian Fare 14.4542\n"
     ],
     "output_type": "stream"
    }
   ],
   "source": [
    "print(\"Mean Fare {0}\".format(df.Fare.mean()))\n",
    "print(\"Median Fare {0}\".format(df.Fare.median()))"
   ]
  },
  {
   "cell_type": "code",
   "execution_count": 23,
   "metadata": {
    "pycharm": {
     "is_executing": false
    }
   },
   "outputs": [
    {
     "name": "stdout",
     "text": [
      "Min fare 0.0\nMax fare 512.3292\nFare range 512.3292\n",
      "25 Precentage 7.8958\n50 Precentage 14.4542\n75 Precentage 31.275\nVariance Fare 2678.959737892894\nStandard devication fare 51.75866823917414\n"
     ],
     "output_type": "stream"
    }
   ],
   "source": [
    "print(\"Min fare {0}\".format(df.Fare.min()))\n",
    "print(\"Max fare {0}\".format(df.Fare.max()))\n",
    "print(\"Fare range {0}\".format(df.Fare.max() - df.Fare.min()))\n",
    "print(\"25 Precentage {0}\".format(df.Fare.quantile(.25)))\n",
    "print(\"50 Precentage {0}\".format(df.Fare.quantile(.5)))\n",
    "print(\"75 Precentage {0}\".format(df.Fare.quantile(.75)))\n",
    "print(\"Variance Fare {0}\".format(df.Fare.var()))\n",
    "print(\"Standard devication fare {0}\".format(df.Fare.std()))"
   ]
  },
  {
   "cell_type": "code",
   "execution_count": 24,
   "metadata": {
    "pycharm": {
     "is_executing": false
    }
   },
   "outputs": [
    {
     "data": {
      "text/plain": "<matplotlib.axes._subplots.AxesSubplot at 0x11b161cf8>"
     },
     "metadata": {},
     "output_type": "execute_result",
     "execution_count": 24
    },
    {
     "data": {
      "text/plain": "<Figure size 432x288 with 1 Axes>",
      "image/png": "[encoded data removed]"
     },
     "metadata": {
      "needs_background": "light"
     },
     "output_type": "display_data"
    }
   ],
   "source": [
    "# box-whisker plot\n",
    "df.Fare.plot(kind='box')"
   ]
  },
  {
   "cell_type": "code",
   "execution_count": 25,
   "metadata": {
    "pycharm": {
     "is_executing": false
    }
   },
   "outputs": [
    {
     "data": {
      "text/plain": "           Survived       Pclass                  Name   Sex          Age  \\\ncount   1309.000000  1309.000000                  1309  1309  1046.000000   \nunique          NaN          NaN                  1307     2          NaN   \ntop             NaN          NaN  Connolly, Miss. Kate  male          NaN   \nfreq            NaN          NaN                     2   843          NaN   \nmean    -318.747135     2.294882                   NaN   NaN    29.881138   \nstd      466.107167     0.837836                   NaN   NaN    14.413493   \nmin     -999.000000     1.000000                   NaN   NaN     0.170000   \n25%     -999.000000     2.000000                   NaN   NaN    21.000000   \n50%        0.000000     3.000000                   NaN   NaN    28.000000   \n75%        1.000000     3.000000                   NaN   NaN    39.000000   \nmax        1.000000     3.000000                   NaN   NaN    80.000000   \n\n              SibSp        Parch    Ticket         Fare        Cabin Embarked  \ncount   1309.000000  1309.000000      1309  1308.000000          295     1307  \nunique          NaN          NaN       929          NaN          186        3  \ntop             NaN          NaN  CA. 2343          NaN  C23 C25 C27        S  \nfreq            NaN          NaN        11          NaN            6      914  \nmean       0.498854     0.385027       NaN    33.295479          NaN      NaN  \nstd        1.041658     0.865560       NaN    51.758668          NaN      NaN  \nmin        0.000000     0.000000       NaN     0.000000          NaN      NaN  \n25%        0.000000     0.000000       NaN     7.895800          NaN      NaN  \n50%        0.000000     0.000000       NaN    14.454200          NaN      NaN  \n75%        1.000000     0.000000       NaN    31.275000          NaN      NaN  \nmax        8.000000     9.000000       NaN   512.329200          NaN      NaN  ",
      "text/html": "<div>\n<style scoped>\n    .dataframe tbody tr th:only-of-type {\n        vertical-align: middle;\n    }\n\n    .dataframe tbody tr th {\n        vertical-align: top;\n    }\n\n    .dataframe thead th {\n        text-align: right;\n    }\n</style>\n<table border=\"1\" class=\"dataframe\">\n  <thead>\n    <tr style=\"text-align: right;\">\n      <th></th>\n      <th>Survived</th>\n      <th>Pclass</th>\n      <th>Name</th>\n      <th>Sex</th>\n      <th>Age</th>\n      <th>SibSp</th>\n      <th>Parch</th>\n      <th>Ticket</th>\n      <th>Fare</th>\n      <th>Cabin</th>\n      <th>Embarked</th>\n    </tr>\n  </thead>\n  <tbody>\n    <tr>\n      <th>count</th>\n      <td>1309.000000</td>\n      <td>1309.000000</td>\n      <td>1309</td>\n      <td>1309</td>\n      <td>1046.000000</td>\n      <td>1309.000000</td>\n      <td>1309.000000</td>\n      <td>1309</td>\n      <td>1308.000000</td>\n      <td>295</td>\n      <td>1307</td>\n    </tr>\n    <tr>\n      <th>unique</th>\n      <td>NaN</td>\n      <td>NaN</td>\n      <td>1307</td>\n      <td>2</td>\n      <td>NaN</td>\n      <td>NaN</td>\n      <td>NaN</td>\n      <td>929</td>\n      <td>NaN</td>\n      <td>186</td>\n      <td>3</td>\n    </tr>\n    <tr>\n      <th>top</th>\n      <td>NaN</td>\n      <td>NaN</td>\n      <td>Connolly, Miss. Kate</td>\n      <td>male</td>\n      <td>NaN</td>\n      <td>NaN</td>\n      <td>NaN</td>\n      <td>CA. 2343</td>\n      <td>NaN</td>\n      <td>C23 C25 C27</td>\n      <td>S</td>\n    </tr>\n    <tr>\n      <th>freq</th>\n      <td>NaN</td>\n      <td>NaN</td>\n      <td>2</td>\n      <td>843</td>\n      <td>NaN</td>\n      <td>NaN</td>\n      <td>NaN</td>\n      <td>11</td>\n      <td>NaN</td>\n      <td>6</td>\n      <td>914</td>\n    </tr>\n    <tr>\n      <th>mean</th>\n      <td>-318.747135</td>\n      <td>2.294882</td>\n      <td>NaN</td>\n      <td>NaN</td>\n      <td>29.881138</td>\n      <td>0.498854</td>\n      <td>0.385027</td>\n      <td>NaN</td>\n      <td>33.295479</td>\n      <td>NaN</td>\n      <td>NaN</td>\n    </tr>\n    <tr>\n      <th>std</th>\n      <td>466.107167</td>\n      <td>0.837836</td>\n      <td>NaN</td>\n      <td>NaN</td>\n      <td>14.413493</td>\n      <td>1.041658</td>\n      <td>0.865560</td>\n      <td>NaN</td>\n      <td>51.758668</td>\n      <td>NaN</td>\n      <td>NaN</td>\n    </tr>\n    <tr>\n      <th>min</th>\n      <td>-999.000000</td>\n      <td>1.000000</td>\n      <td>NaN</td>\n      <td>NaN</td>\n      <td>0.170000</td>\n      <td>0.000000</td>\n      <td>0.000000</td>\n      <td>NaN</td>\n      <td>0.000000</td>\n      <td>NaN</td>\n      <td>NaN</td>\n    </tr>\n    <tr>\n      <th>25%</th>\n      <td>-999.000000</td>\n      <td>2.000000</td>\n      <td>NaN</td>\n      <td>NaN</td>\n      <td>21.000000</td>\n      <td>0.000000</td>\n      <td>0.000000</td>\n      <td>NaN</td>\n      <td>7.895800</td>\n      <td>NaN</td>\n      <td>NaN</td>\n    </tr>\n    <tr>\n      <th>50%</th>\n      <td>0.000000</td>\n      <td>3.000000</td>\n      <td>NaN</td>\n      <td>NaN</td>\n      <td>28.000000</td>\n      <td>0.000000</td>\n      <td>0.000000</td>\n      <td>NaN</td>\n      <td>14.454200</td>\n      <td>NaN</td>\n      <td>NaN</td>\n    </tr>\n    <tr>\n      <th>75%</th>\n      <td>1.000000</td>\n      <td>3.000000</td>\n      <td>NaN</td>\n      <td>NaN</td>\n      <td>39.000000</td>\n      <td>1.000000</td>\n      <td>0.000000</td>\n      <td>NaN</td>\n      <td>31.275000</td>\n      <td>NaN</td>\n      <td>NaN</td>\n    </tr>\n    <tr>\n      <th>max</th>\n      <td>1.000000</td>\n      <td>3.000000</td>\n      <td>NaN</td>\n      <td>NaN</td>\n      <td>80.000000</td>\n      <td>8.000000</td>\n      <td>9.000000</td>\n      <td>NaN</td>\n      <td>512.329200</td>\n      <td>NaN</td>\n      <td>NaN</td>\n    </tr>\n  </tbody>\n</table>\n</div>"
     },
     "metadata": {},
     "output_type": "execute_result",
     "execution_count": 25
    }
   ],
   "source": [
    "# get statstics for all columns including non-numeric ones\n",
    "df.describe(include='all')"
   ]
  },
  {
   "cell_type": "code",
   "execution_count": 26,
   "metadata": {
    "pycharm": {
     "is_executing": false
    }
   },
   "outputs": [
    {
     "data": {
      "text/plain": "male      843\nfemale    466\nName: Sex, dtype: int64"
     },
     "metadata": {},
     "output_type": "execute_result",
     "execution_count": 26
    }
   ],
   "source": [
    "# categorial column count\n",
    "df.Sex.value_counts()"
   ]
  },
  {
   "cell_type": "code",
   "execution_count": 27,
   "metadata": {
    "pycharm": {
     "is_executing": false
    }
   },
   "outputs": [
    {
     "data": {
      "text/plain": "male      0.644003\nfemale    0.355997\nName: Sex, dtype: float64"
     },
     "metadata": {},
     "output_type": "execute_result",
     "execution_count": 27
    }
   ],
   "source": [
    "# categorial column proporation\n",
    "df.Sex.value_counts(normalize=True)"
   ]
  },
  {
   "cell_type": "code",
   "execution_count": 28,
   "metadata": {
    "pycharm": {
     "is_executing": false
    }
   },
   "outputs": [
    {
     "data": {
      "text/plain": "0    549\n1    342\nName: Survived, dtype: int64"
     },
     "metadata": {},
     "output_type": "execute_result",
     "execution_count": 28
    }
   ],
   "source": [
    "# apply on other columns\n",
    "df[df.Survived != -999].Survived.value_counts()"
   ]
  },
  {
   "cell_type": "code",
   "execution_count": null,
   "outputs": [],
   "source": [
    "# count passenger class\n",
    "df.Pclass.count()"
   ],
   "metadata": {
    "collapsed": false,
    "pycharm": {
     "name": "#%%\n"
    }
   }
  }
 ],
 "metadata": {
  "kernelspec": {
   "display_name": "Python 3",
   "language": "python",
   "name": "python3"
  },
  "language_info": {
   "codemirror_mode": {
    "name": "ipython",
    "version": 3
   },
   "file_extension": ".py",
   "mimetype": "text/x-python",
   "name": "python",
   "nbconvert_exporter": "python",
   "pygments_lexer": "ipython3",
   "version": "3.6.8"
  },
  "pycharm": {
   "stem_cell": {
    "cell_type": "raw",
    "source": [],
    "metadata": {
     "collapsed": false
    }
   }
  }
 },
 "nbformat": 4,
 "nbformat_minor": 1
}